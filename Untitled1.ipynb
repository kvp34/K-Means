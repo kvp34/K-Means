{
 "cells": [
  {
   "cell_type": "code",
   "execution_count": 1,
   "metadata": {},
   "outputs": [],
   "source": [
    "import sys\n",
    "import random\n",
    "\n",
    "# read data file\n",
    "datafile = \"ProfData.txt\"\n",
    "\n",
    "with open(datafile) as f:\n",
    "    data=[]\n",
    "    i=0\n",
    "    l=f.readline()\n",
    "    while (l!=''):\n",
    "        a=l.split()\n",
    "        l2=[]\n",
    "        for j in range(0,len(a),1):\n",
    "            l2.append(float(a[j]))\n",
    "        data.append(l2)\n",
    "        l=f.readline()\n",
    "rows=len(data)\n",
    "cols=len(data[0])"
   ]
  },
  {
   "cell_type": "code",
   "execution_count": 2,
   "metadata": {},
   "outputs": [],
   "source": [
    "k=2\n",
    "trainlabels={}"
   ]
  },
  {
   "cell_type": "code",
   "execution_count": 3,
   "metadata": {},
   "outputs": [],
   "source": [
    "for x in range(0,rows):\n",
    "    trainlabels[x]=random.sample(range(0, k), 1)[0] "
   ]
  },
  {
   "cell_type": "code",
   "execution_count": null,
   "metadata": {},
   "outputs": [],
   "source": []
  },
  {
   "cell_type": "code",
   "execution_count": 4,
   "metadata": {},
   "outputs": [],
   "source": [
    "#distance between vector\n",
    "def distance(list1,list2):\n",
    "    dist = [(a - b)**2 for a, b in zip(list1, list2)]\n",
    "    return sum(dist)"
   ]
  },
  {
   "cell_type": "code",
   "execution_count": 5,
   "metadata": {},
   "outputs": [],
   "source": [
    "prevobj = 10000000\n",
    "obj = prevobj - 10\n",
    "stop_cond=0.001"
   ]
  },
  {
   "cell_type": "code",
   "execution_count": 6,
   "metadata": {},
   "outputs": [
    {
     "name": "stdout",
     "output_type": "stream",
     "text": [
      "Objective =  135.59555555555556\n",
      "Objective =  124.4375\n",
      "Objective =  98.12888888888891\n",
      "Objective =  75.75\n",
      "Objective =  75.75\n"
     ]
    }
   ],
   "source": [
    "while(prevobj - obj > stop_cond):\n",
    "    prevobj = obj\n",
    "    \n",
    "    #Calculate mean\n",
    "    m = [[0] * cols for i in range(k)]\n",
    "    n = [0] * k\n",
    "    for x in range(0,rows):\n",
    "        for z in range(0,k):\n",
    "            if(trainlabels.get(x)==z):\n",
    "                n[z]=n[z]+1\n",
    "                for y in range(0,cols):\n",
    "                    m[z][y]=m[z][y]+data[x][y]\n",
    "    for z in range(0,k):\n",
    "        for y in range(0,cols):\n",
    "            if(n[z]!=0):\n",
    "                m[z][y]=m[z][y]/n[z]\n",
    "                \n",
    "    #Reassign Clusters\n",
    "    dist=[]\n",
    "    for i in range(0,rows):\n",
    "        d1=[]\n",
    "        for z in range(0,k):\n",
    "            d1.append(distance(m[z],data[i]))\n",
    "        dist.append(d1)\n",
    "    for i in range(0,rows):\n",
    "        trainlabels[i]=dist[i].index(min(dist[i]))\n",
    "    \n",
    "    #objective\n",
    "    obj=0\n",
    "    for x in range(0,rows):\n",
    "        for z in range(0,k):\n",
    "            if(trainlabels.get(x)==z):\n",
    "                obj=obj+(distance(m[z],data[x]))\n",
    "    print(\"Objective = \",obj)"
   ]
  },
  {
   "cell_type": "code",
   "execution_count": 7,
   "metadata": {},
   "outputs": [
    {
     "name": "stdout",
     "output_type": "stream",
     "text": [
      "0   0\n",
      "0   1\n",
      "0   2\n",
      "0   3\n",
      "1   4\n",
      "1   5\n",
      "1   6\n",
      "1   7\n"
     ]
    }
   ],
   "source": [
    "for i in range(0, rows, 1):\n",
    "        print(trainlabels[i], \" \",i)"
   ]
  },
  {
   "cell_type": "code",
   "execution_count": null,
   "metadata": {},
   "outputs": [],
   "source": []
  }
 ],
 "metadata": {
  "kernelspec": {
   "display_name": "Python 3",
   "language": "python",
   "name": "python3"
  },
  "language_info": {
   "codemirror_mode": {
    "name": "ipython",
    "version": 3
   },
   "file_extension": ".py",
   "mimetype": "text/x-python",
   "name": "python",
   "nbconvert_exporter": "python",
   "pygments_lexer": "ipython3",
   "version": "3.6.5"
  }
 },
 "nbformat": 4,
 "nbformat_minor": 2
}
